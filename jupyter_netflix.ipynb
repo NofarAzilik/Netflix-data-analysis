{
 "cells": [
  {
   "cell_type": "code",
   "execution_count": 14,
   "metadata": {},
   "outputs": [],
   "source": [
    "from matplotlib import colors\n",
    "import pandas as pd\n",
    "import numpy as np\n",
    "import seaborn as sns\n",
    "import plotly.express as px\n",
    "import plotly.graph_objects as go\n",
    "from pandas.core.frame import DataFrame\n",
    "import matplotlib.pyplot as plt\n",
    "from pandas.core.indexes import category"
   ]
  },
  {
   "cell_type": "code",
   "execution_count": 15,
   "metadata": {},
   "outputs": [
    {
     "data": {
      "text/html": [
       "<div>\n",
       "<style scoped>\n",
       "    .dataframe tbody tr th:only-of-type {\n",
       "        vertical-align: middle;\n",
       "    }\n",
       "\n",
       "    .dataframe tbody tr th {\n",
       "        vertical-align: top;\n",
       "    }\n",
       "\n",
       "    .dataframe thead th {\n",
       "        text-align: right;\n",
       "    }\n",
       "</style>\n",
       "<table border=\"1\" class=\"dataframe\">\n",
       "  <thead>\n",
       "    <tr style=\"text-align: right;\">\n",
       "      <th></th>\n",
       "      <th>type</th>\n",
       "      <th>title</th>\n",
       "      <th>director</th>\n",
       "      <th>cast</th>\n",
       "      <th>country</th>\n",
       "      <th>date_added</th>\n",
       "      <th>release_year</th>\n",
       "      <th>rating</th>\n",
       "      <th>duration</th>\n",
       "      <th>category</th>\n",
       "      <th>description</th>\n",
       "    </tr>\n",
       "    <tr>\n",
       "      <th>show_id</th>\n",
       "      <th></th>\n",
       "      <th></th>\n",
       "      <th></th>\n",
       "      <th></th>\n",
       "      <th></th>\n",
       "      <th></th>\n",
       "      <th></th>\n",
       "      <th></th>\n",
       "      <th></th>\n",
       "      <th></th>\n",
       "      <th></th>\n",
       "    </tr>\n",
       "  </thead>\n",
       "  <tbody>\n",
       "    <tr>\n",
       "      <th>1</th>\n",
       "      <td>TV Show</td>\n",
       "      <td>A Little Thing Called First Love</td>\n",
       "      <td>NaN</td>\n",
       "      <td>Lai Kuan-lin, Zhao Jinmai, Wang Runze, Chai We...</td>\n",
       "      <td>China</td>\n",
       "      <td>October 26, 2019</td>\n",
       "      <td>2019</td>\n",
       "      <td>TV-G</td>\n",
       "      <td>1 Season</td>\n",
       "      <td>Romantic TV Shows, Teen TV Shows</td>\n",
       "      <td>A shy college student with a knack for drawing...</td>\n",
       "    </tr>\n",
       "    <tr>\n",
       "      <th>2</th>\n",
       "      <td>TV Show</td>\n",
       "      <td>A Love So Beautiful</td>\n",
       "      <td>NaN</td>\n",
       "      <td>Kim Yo-han, So Joo-yeon, Yeo Hoi-hyun, Jeong J...</td>\n",
       "      <td>South Korea</td>\n",
       "      <td>December 28, 2020</td>\n",
       "      <td>2020</td>\n",
       "      <td>TV-PG</td>\n",
       "      <td>1 Season</td>\n",
       "      <td>Romantic TV Shows, TV Comedies</td>\n",
       "      <td>Love is as tough as it is sweet for a lovestru...</td>\n",
       "    </tr>\n",
       "    <tr>\n",
       "      <th>3</th>\n",
       "      <td>Movie</td>\n",
       "      <td>A Love Song for Latasha</td>\n",
       "      <td>Sophia Nahli Allison</td>\n",
       "      <td>NaN</td>\n",
       "      <td>United States</td>\n",
       "      <td>September 21, 2020</td>\n",
       "      <td>2020</td>\n",
       "      <td>TV-PG</td>\n",
       "      <td>20 min</td>\n",
       "      <td>Documentaries</td>\n",
       "      <td>The killing of Latasha Harlins became a flashp...</td>\n",
       "    </tr>\n",
       "    <tr>\n",
       "      <th>4</th>\n",
       "      <td>Movie</td>\n",
       "      <td>A Love Story</td>\n",
       "      <td>Maryo J. De los Reyes</td>\n",
       "      <td>Maricel Soriano, Aga Muhlach, Angelica Pangani...</td>\n",
       "      <td>Philippines</td>\n",
       "      <td>March 14, 2019</td>\n",
       "      <td>2007</td>\n",
       "      <td>TV-14</td>\n",
       "      <td>117 min</td>\n",
       "      <td>Dramas, International Movies, Romantic Movies</td>\n",
       "      <td>Self-made millionaire Ian thinks he's found ha...</td>\n",
       "    </tr>\n",
       "    <tr>\n",
       "      <th>5</th>\n",
       "      <td>TV Show</td>\n",
       "      <td>A Man Called God</td>\n",
       "      <td>NaN</td>\n",
       "      <td>Song Il-gook, Han Chae-young, Kim Min-jong, Go...</td>\n",
       "      <td>South Korea</td>\n",
       "      <td>March 12, 2019</td>\n",
       "      <td>2010</td>\n",
       "      <td>TV-14</td>\n",
       "      <td>1 Season</td>\n",
       "      <td>Crime TV Shows, Korean TV Shows</td>\n",
       "      <td>Raised in America, government agent Choi Kang-...</td>\n",
       "    </tr>\n",
       "  </tbody>\n",
       "</table>\n",
       "</div>"
      ],
      "text/plain": [
       "            type                             title               director  \\\n",
       "show_id                                                                     \n",
       "1        TV Show  A Little Thing Called First Love                    NaN   \n",
       "2        TV Show               A Love So Beautiful                    NaN   \n",
       "3          Movie           A Love Song for Latasha   Sophia Nahli Allison   \n",
       "4          Movie                      A Love Story  Maryo J. De los Reyes   \n",
       "5        TV Show                  A Man Called God                    NaN   \n",
       "\n",
       "                                                      cast        country  \\\n",
       "show_id                                                                     \n",
       "1        Lai Kuan-lin, Zhao Jinmai, Wang Runze, Chai We...          China   \n",
       "2        Kim Yo-han, So Joo-yeon, Yeo Hoi-hyun, Jeong J...    South Korea   \n",
       "3                                                      NaN  United States   \n",
       "4        Maricel Soriano, Aga Muhlach, Angelica Pangani...    Philippines   \n",
       "5        Song Il-gook, Han Chae-young, Kim Min-jong, Go...    South Korea   \n",
       "\n",
       "                 date_added  release_year rating  duration  \\\n",
       "show_id                                                      \n",
       "1          October 26, 2019          2019   TV-G  1 Season   \n",
       "2         December 28, 2020          2020  TV-PG  1 Season   \n",
       "3        September 21, 2020          2020  TV-PG    20 min   \n",
       "4            March 14, 2019          2007  TV-14   117 min   \n",
       "5            March 12, 2019          2010  TV-14  1 Season   \n",
       "\n",
       "                                              category  \\\n",
       "show_id                                                  \n",
       "1                     Romantic TV Shows, Teen TV Shows   \n",
       "2                       Romantic TV Shows, TV Comedies   \n",
       "3                                        Documentaries   \n",
       "4        Dramas, International Movies, Romantic Movies   \n",
       "5                      Crime TV Shows, Korean TV Shows   \n",
       "\n",
       "                                               description  \n",
       "show_id                                                     \n",
       "1        A shy college student with a knack for drawing...  \n",
       "2        Love is as tough as it is sweet for a lovestru...  \n",
       "3        The killing of Latasha Harlins became a flashp...  \n",
       "4        Self-made millionaire Ian thinks he's found ha...  \n",
       "5        Raised in America, government agent Choi Kang-...  "
      ]
     },
     "execution_count": 15,
     "metadata": {},
     "output_type": "execute_result"
    }
   ],
   "source": [
    "data = pd.read_csv(r'C:\\\\Users\\\\azili\\\\OneDrive\\\\Documents\\\\Netflix_project\\\\Clean_Data.csv', index_col= 'show_id')\n",
    "df = DataFrame(data)\n",
    "df.head()"
   ]
  },
  {
   "cell_type": "code",
   "execution_count": 16,
   "metadata": {},
   "outputs": [
    {
     "data": {
      "text/html": [
       "<div>\n",
       "<style scoped>\n",
       "    .dataframe tbody tr th:only-of-type {\n",
       "        vertical-align: middle;\n",
       "    }\n",
       "\n",
       "    .dataframe tbody tr th {\n",
       "        vertical-align: top;\n",
       "    }\n",
       "\n",
       "    .dataframe thead th {\n",
       "        text-align: right;\n",
       "    }\n",
       "</style>\n",
       "<table border=\"1\" class=\"dataframe\">\n",
       "  <thead>\n",
       "    <tr style=\"text-align: right;\">\n",
       "      <th></th>\n",
       "      <th>type</th>\n",
       "      <th>title</th>\n",
       "      <th>director</th>\n",
       "      <th>cast</th>\n",
       "      <th>country</th>\n",
       "      <th>date_added</th>\n",
       "      <th>release_year</th>\n",
       "      <th>rating</th>\n",
       "      <th>duration</th>\n",
       "      <th>category</th>\n",
       "      <th>description</th>\n",
       "      <th>date</th>\n",
       "      <th>year</th>\n",
       "      <th>month</th>\n",
       "      <th>weekday</th>\n",
       "    </tr>\n",
       "    <tr>\n",
       "      <th>show_id</th>\n",
       "      <th></th>\n",
       "      <th></th>\n",
       "      <th></th>\n",
       "      <th></th>\n",
       "      <th></th>\n",
       "      <th></th>\n",
       "      <th></th>\n",
       "      <th></th>\n",
       "      <th></th>\n",
       "      <th></th>\n",
       "      <th></th>\n",
       "      <th></th>\n",
       "      <th></th>\n",
       "      <th></th>\n",
       "      <th></th>\n",
       "    </tr>\n",
       "  </thead>\n",
       "  <tbody>\n",
       "    <tr>\n",
       "      <th>1</th>\n",
       "      <td>TV Show</td>\n",
       "      <td>A Little Thing Called First Love</td>\n",
       "      <td>NaN</td>\n",
       "      <td>Lai Kuan-lin, Zhao Jinmai, Wang Runze, Chai We...</td>\n",
       "      <td>China</td>\n",
       "      <td>October 26, 2019</td>\n",
       "      <td>2019</td>\n",
       "      <td>TV-G</td>\n",
       "      <td>1 Season</td>\n",
       "      <td>Romantic TV Shows, Teen TV Shows</td>\n",
       "      <td>A shy college student with a knack for drawing...</td>\n",
       "      <td>2019-10-26</td>\n",
       "      <td>2019</td>\n",
       "      <td>10</td>\n",
       "      <td>Saturday</td>\n",
       "    </tr>\n",
       "    <tr>\n",
       "      <th>2</th>\n",
       "      <td>TV Show</td>\n",
       "      <td>A Love So Beautiful</td>\n",
       "      <td>NaN</td>\n",
       "      <td>Kim Yo-han, So Joo-yeon, Yeo Hoi-hyun, Jeong J...</td>\n",
       "      <td>South Korea</td>\n",
       "      <td>December 28, 2020</td>\n",
       "      <td>2020</td>\n",
       "      <td>TV-PG</td>\n",
       "      <td>1 Season</td>\n",
       "      <td>Romantic TV Shows, TV Comedies</td>\n",
       "      <td>Love is as tough as it is sweet for a lovestru...</td>\n",
       "      <td>2020-12-28</td>\n",
       "      <td>2020</td>\n",
       "      <td>12</td>\n",
       "      <td>Monday</td>\n",
       "    </tr>\n",
       "    <tr>\n",
       "      <th>3</th>\n",
       "      <td>Movie</td>\n",
       "      <td>A Love Song for Latasha</td>\n",
       "      <td>Sophia Nahli Allison</td>\n",
       "      <td>NaN</td>\n",
       "      <td>United States</td>\n",
       "      <td>September 21, 2020</td>\n",
       "      <td>2020</td>\n",
       "      <td>TV-PG</td>\n",
       "      <td>20 min</td>\n",
       "      <td>Documentaries</td>\n",
       "      <td>The killing of Latasha Harlins became a flashp...</td>\n",
       "      <td>2020-09-21</td>\n",
       "      <td>2020</td>\n",
       "      <td>9</td>\n",
       "      <td>Monday</td>\n",
       "    </tr>\n",
       "    <tr>\n",
       "      <th>4</th>\n",
       "      <td>Movie</td>\n",
       "      <td>A Love Story</td>\n",
       "      <td>Maryo J. De los Reyes</td>\n",
       "      <td>Maricel Soriano, Aga Muhlach, Angelica Pangani...</td>\n",
       "      <td>Philippines</td>\n",
       "      <td>March 14, 2019</td>\n",
       "      <td>2007</td>\n",
       "      <td>TV-14</td>\n",
       "      <td>117 min</td>\n",
       "      <td>Dramas, International Movies, Romantic Movies</td>\n",
       "      <td>Self-made millionaire Ian thinks he's found ha...</td>\n",
       "      <td>2019-03-14</td>\n",
       "      <td>2019</td>\n",
       "      <td>3</td>\n",
       "      <td>Thursday</td>\n",
       "    </tr>\n",
       "    <tr>\n",
       "      <th>5</th>\n",
       "      <td>TV Show</td>\n",
       "      <td>A Man Called God</td>\n",
       "      <td>NaN</td>\n",
       "      <td>Song Il-gook, Han Chae-young, Kim Min-jong, Go...</td>\n",
       "      <td>South Korea</td>\n",
       "      <td>March 12, 2019</td>\n",
       "      <td>2010</td>\n",
       "      <td>TV-14</td>\n",
       "      <td>1 Season</td>\n",
       "      <td>Crime TV Shows, Korean TV Shows</td>\n",
       "      <td>Raised in America, government agent Choi Kang-...</td>\n",
       "      <td>2019-03-12</td>\n",
       "      <td>2019</td>\n",
       "      <td>3</td>\n",
       "      <td>Tuesday</td>\n",
       "    </tr>\n",
       "  </tbody>\n",
       "</table>\n",
       "</div>"
      ],
      "text/plain": [
       "            type                             title               director  \\\n",
       "show_id                                                                     \n",
       "1        TV Show  A Little Thing Called First Love                    NaN   \n",
       "2        TV Show               A Love So Beautiful                    NaN   \n",
       "3          Movie           A Love Song for Latasha   Sophia Nahli Allison   \n",
       "4          Movie                      A Love Story  Maryo J. De los Reyes   \n",
       "5        TV Show                  A Man Called God                    NaN   \n",
       "\n",
       "                                                      cast        country  \\\n",
       "show_id                                                                     \n",
       "1        Lai Kuan-lin, Zhao Jinmai, Wang Runze, Chai We...          China   \n",
       "2        Kim Yo-han, So Joo-yeon, Yeo Hoi-hyun, Jeong J...    South Korea   \n",
       "3                                                      NaN  United States   \n",
       "4        Maricel Soriano, Aga Muhlach, Angelica Pangani...    Philippines   \n",
       "5        Song Il-gook, Han Chae-young, Kim Min-jong, Go...    South Korea   \n",
       "\n",
       "                 date_added  release_year rating  duration  \\\n",
       "show_id                                                      \n",
       "1          October 26, 2019          2019   TV-G  1 Season   \n",
       "2         December 28, 2020          2020  TV-PG  1 Season   \n",
       "3        September 21, 2020          2020  TV-PG    20 min   \n",
       "4            March 14, 2019          2007  TV-14   117 min   \n",
       "5            March 12, 2019          2010  TV-14  1 Season   \n",
       "\n",
       "                                              category  \\\n",
       "show_id                                                  \n",
       "1                     Romantic TV Shows, Teen TV Shows   \n",
       "2                       Romantic TV Shows, TV Comedies   \n",
       "3                                        Documentaries   \n",
       "4        Dramas, International Movies, Romantic Movies   \n",
       "5                      Crime TV Shows, Korean TV Shows   \n",
       "\n",
       "                                               description       date  year  \\\n",
       "show_id                                                                       \n",
       "1        A shy college student with a knack for drawing... 2019-10-26  2019   \n",
       "2        Love is as tough as it is sweet for a lovestru... 2020-12-28  2020   \n",
       "3        The killing of Latasha Harlins became a flashp... 2020-09-21  2020   \n",
       "4        Self-made millionaire Ian thinks he's found ha... 2019-03-14  2019   \n",
       "5        Raised in America, government agent Choi Kang-... 2019-03-12  2019   \n",
       "\n",
       "         month   weekday  \n",
       "show_id                   \n",
       "1           10  Saturday  \n",
       "2           12    Monday  \n",
       "3            9    Monday  \n",
       "4            3  Thursday  \n",
       "5            3   Tuesday  "
      ]
     },
     "execution_count": 16,
     "metadata": {},
     "output_type": "execute_result"
    }
   ],
   "source": [
    "# Create a date culoumn based on existed column 'date_added'.\n",
    "# extract year, month and weekday and add these as new culomns:\n",
    "date = pd.to_datetime(data['date_added'])\n",
    "data['date'] = date\n",
    "data['year'] = df['date'].dt.year.astype('Int64')\n",
    "data['month'] = df['date'].dt.month.astype('Int64')\n",
    "data['weekday'] = df['date'].dt.day_name()\n",
    "df.head()"
   ]
  },
  {
   "cell_type": "code",
   "execution_count": 17,
   "metadata": {},
   "outputs": [],
   "source": [
    "# group by years, months and weekdays:\n",
    "by_years = data.groupby(['year']).size()\n",
    "by_months = data.groupby(['month']).size()\n",
    "by_weekday = data.groupby(['weekday']).size()"
   ]
  },
  {
   "cell_type": "code",
   "execution_count": 18,
   "metadata": {},
   "outputs": [
    {
     "data": {
      "image/png": "[encoded data removed]",
      "text/plain": [
       "<Figure size 576x324 with 1 Axes>"
      ]
     },
     "metadata": {
      "needs_background": "light"
     },
     "output_type": "display_data"
    }
   ],
   "source": [
    "# Figuer 1.1: number of contents adding\n",
    "plt.figure(figsize=(8, 4.5))\n",
    "plt.plot(by_years)\n",
    "plt.title('Count of contents added by years', fontsize=14)\n",
    "plt.show()"
   ]
  },
  {
   "cell_type": "code",
   "execution_count": 19,
   "metadata": {},
   "outputs": [
    {
     "data": {
      "image/png": "[encoded data removed]",
      "text/plain": [
       "<Figure size 576x324 with 1 Axes>"
      ]
     },
     "metadata": {
      "needs_background": "light"
     },
     "output_type": "display_data"
    }
   ],
   "source": [
    "# Figuer 1.2:\n",
    "plt.figure(figsize=(8, 4.5))\n",
    "plt.plot(by_months)\n",
    "plt.title('Count of contents added by months', fontsize=14)\n",
    "\n",
    "plt.show()"
   ]
  },
  {
   "cell_type": "code",
   "execution_count": 20,
   "metadata": {},
   "outputs": [
    {
     "data": {
      "image/png": "[encoded data removed]",
      "text/plain": [
       "<Figure size 576x324 with 1 Axes>"
      ]
     },
     "metadata": {
      "needs_background": "light"
     },
     "output_type": "display_data"
    }
   ],
   "source": [
    "# Figuer 1.3:\n",
    "sorted_weekdays = ['Sunday', 'Monday', 'Tuesday', 'Wednesday', 'Thursday', 'Friday', 'Saturday']\n",
    "df['weekday'] = pd.Categorical(data['weekday'], categories=sorted_weekdays, ordered=True)\n",
    "df = df.sort_values('weekday')\n",
    "plt.figure(figsize=(8, 4.5))\n",
    "colors_2 = ['#5F9EA0', '#DEB887', '#A9A9A9', '#B8860B', '#8B008B', '#20B2AA', '#3CB371']\n",
    "sns.barplot(x=sorted_weekdays, y=by_weekday)\n",
    "plt.title('Count of contents added by days of week', fontsize=14)\n",
    "plt.show()\n"
   ]
  },
  {
   "cell_type": "code",
   "execution_count": 21,
   "metadata": {},
   "outputs": [
    {
     "data": {
      "image/png": "[encoded data removed]",
      "text/plain": [
       "<Figure size 576x360 with 1 Axes>"
      ]
     },
     "metadata": {},
     "output_type": "display_data"
    }
   ],
   "source": [
    "# Figuer 2.1:\n",
    "movies = data[(data['type']=='Movie')]\n",
    "tv_shows = data[(data['type']=='TV Show')]\n",
    "a = np.array([len(movies), len(tv_shows)])\n",
    "mylabels = ['movies', 'tv-shows']\n",
    "mycolors = ['#4682B4', '#B0C4DE']\n",
    "plt.figure(figsize=(8, 5))\n",
    "plt.pie(a, labels= mylabels, startangle= 90, shadow = True, colors= mycolors, autopct='%1.1f%%')\n",
    "plt.title('Movies and TV-Shows', fontsize=14)\n",
    "plt.show()"
   ]
  },
  {
   "cell_type": "code",
   "execution_count": 22,
   "metadata": {},
   "outputs": [
    {
     "data": {
      "image/png": "[encoded data removed]",
      "text/plain": [
       "<Figure size 576x324 with 1 Axes>"
      ]
     },
     "metadata": {
      "needs_background": "light"
     },
     "output_type": "display_data"
    }
   ],
   "source": [
    "# Figuer 2.2:\n",
    "\n",
    "type_per_year = data.groupby(by=['year', 'type']).size()\n",
    "#type_per_year.unstack()\n",
    "plt.figure(figsize=(8, 4.5))\n",
    "plt.plot(type_per_year.unstack())\n",
    "plt.title('Count of Movies and TV-Shows by years', fontsize=14)\n",
    "plt.legend(type_per_year.unstack())\n",
    "plt.show()\n",
    "\n"
   ]
  },
  {
   "cell_type": "code",
   "execution_count": 23,
   "metadata": {},
   "outputs": [
    {
     "data": {
      "text/html": [
       "<div>\n",
       "<style scoped>\n",
       "    .dataframe tbody tr th:only-of-type {\n",
       "        vertical-align: middle;\n",
       "    }\n",
       "\n",
       "    .dataframe tbody tr th {\n",
       "        vertical-align: top;\n",
       "    }\n",
       "\n",
       "    .dataframe thead th {\n",
       "        text-align: right;\n",
       "    }\n",
       "</style>\n",
       "<table border=\"1\" class=\"dataframe\">\n",
       "  <thead>\n",
       "    <tr style=\"text-align: right;\">\n",
       "      <th></th>\n",
       "      <th>0</th>\n",
       "    </tr>\n",
       "    <tr>\n",
       "      <th>country</th>\n",
       "      <th></th>\n",
       "    </tr>\n",
       "  </thead>\n",
       "  <tbody>\n",
       "    <tr>\n",
       "      <th>United States</th>\n",
       "      <td>2555</td>\n",
       "    </tr>\n",
       "    <tr>\n",
       "      <th>India</th>\n",
       "      <td>923</td>\n",
       "    </tr>\n",
       "    <tr>\n",
       "      <th>United Kingdom</th>\n",
       "      <td>397</td>\n",
       "    </tr>\n",
       "    <tr>\n",
       "      <th>Japan</th>\n",
       "      <td>226</td>\n",
       "    </tr>\n",
       "    <tr>\n",
       "      <th>South Korea</th>\n",
       "      <td>183</td>\n",
       "    </tr>\n",
       "    <tr>\n",
       "      <th>Canada</th>\n",
       "      <td>177</td>\n",
       "    </tr>\n",
       "    <tr>\n",
       "      <th>Spain</th>\n",
       "      <td>134</td>\n",
       "    </tr>\n",
       "    <tr>\n",
       "      <th>France</th>\n",
       "      <td>115</td>\n",
       "    </tr>\n",
       "    <tr>\n",
       "      <th>Egypt</th>\n",
       "      <td>101</td>\n",
       "    </tr>\n",
       "    <tr>\n",
       "      <th>Mexico</th>\n",
       "      <td>100</td>\n",
       "    </tr>\n",
       "  </tbody>\n",
       "</table>\n",
       "</div>"
      ],
      "text/plain": [
       "                   0\n",
       "country             \n",
       "United States   2555\n",
       "India            923\n",
       "United Kingdom   397\n",
       "Japan            226\n",
       "South Korea      183\n",
       "Canada           177\n",
       "Spain            134\n",
       "France           115\n",
       "Egypt            101\n",
       "Mexico           100"
      ]
     },
     "execution_count": 23,
     "metadata": {},
     "output_type": "execute_result"
    }
   ],
   "source": [
    "# Top 10 Countries:\n",
    "by_country = data.groupby(['country']).size()\n",
    "top_10= by_country.sort_values(ascending=False).head(10)\n",
    "top_10_df = pd.DataFrame(top_10)\n",
    "top_10_df"
   ]
  },
  {
   "cell_type": "code",
   "execution_count": 42,
   "metadata": {},
   "outputs": [
    {
     "data": {
      "text/plain": [
       "map"
      ]
     },
     "execution_count": 42,
     "metadata": {},
     "output_type": "execute_result"
    }
   ],
   "source": [
    "# Figuer 3:\n",
    "map"
   ]
  },
  {
   "cell_type": "code",
   "execution_count": null,
   "metadata": {},
   "outputs": [
    {
     "data": {
      "image/png": "[encoded data removed]",
      "text/plain": [
       "<Figure size 576x324 with 1 Axes>"
      ]
     },
     "metadata": {
      "needs_background": "light"
     },
     "output_type": "display_data"
    }
   ],
   "source": [
    "# Figuer 4:\n",
    "data['category'] = df.category.str[0:5]\n",
    "by_category = data.groupby(by=['category']).size()\n",
    "top_5_cats = by_category.sort_values(ascending= False).head(5)\n",
    "plt.figure(figsize=(8, 4.5))\n",
    "sns.barplot(x=top_5_cats.index, y=top_5_cats)\n",
    "plt.title('Top categories of all time', fontsize=14)\n",
    "plt.show()"
   ]
  }
 ],
 "metadata": {
  "interpreter": {
   "hash": "ae18e3789c9396ebe6abd0761e4b751b8604654cd3dc3e8968d1a7ad651e9f33"
  },
  "kernelspec": {
   "display_name": "Python 3.9.6 64-bit",
   "name": "python3"
  },
  "language_info": {
   "codemirror_mode": {
    "name": "ipython",
    "version": 3
   },
   "file_extension": ".py",
   "mimetype": "text/x-python",
   "name": "python",
   "nbconvert_exporter": "python",
   "pygments_lexer": "ipython3",
   "version": "3.9.6"
  },
  "orig_nbformat": 4
 },
 "nbformat": 4,
 "nbformat_minor": 2
}
